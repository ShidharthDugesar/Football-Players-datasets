{
 "cells": [
  {
   "cell_type": "code",
   "execution_count": 1,
   "id": "5bdcebe5",
   "metadata": {
    "execution": {
     "iopub.execute_input": "2024-08-04T06:24:58.483982Z",
     "iopub.status.busy": "2024-08-04T06:24:58.483507Z",
     "iopub.status.idle": "2024-08-04T06:25:01.460028Z",
     "shell.execute_reply": "2024-08-04T06:25:01.458754Z"
    },
    "papermill": {
     "duration": 2.996161,
     "end_time": "2024-08-04T06:25:01.463099",
     "exception": false,
     "start_time": "2024-08-04T06:24:58.466938",
     "status": "completed"
    },
    "tags": []
   },
   "outputs": [],
   "source": [
    "# Importing Libaray that are essential and it will use to build model\n",
    "\n",
    "\n",
    "import matplotlib.pyplot as plt\n",
    "import seaborn as sns\n",
    "import pandas as pd\n",
    "import numpy as np\n",
    "\n",
    "\n",
    "from sklearn.model_selection import train_test_split\n",
    "from sklearn.preprocessing import StandardScaler, OneHotEncoder\n",
    "from sklearn.compose import ColumnTransformer\n",
    "from sklearn.pipeline import Pipeline\n",
    "from sklearn.ensemble import RandomForestRegressor\n",
    "from sklearn.impute import SimpleImputer\n",
    "from sklearn.metrics import mean_squared_error"
   ]
  },
  {
   "cell_type": "markdown",
   "id": "c6edf074",
   "metadata": {
    "papermill": {
     "duration": 0.015432,
     "end_time": "2024-08-04T06:25:01.493833",
     "exception": false,
     "start_time": "2024-08-04T06:25:01.478401",
     "status": "completed"
    },
    "tags": []
   },
   "source": [
    "# Building Model to predict Players ratings with the help of pipeline\n",
    "**Start with tabular analysis.\n",
    "Data visualisation.\n",
    "Training and Testing the Data,by taking value of train_size = 0.2 ,\"means 20 percent of 100 percent data\"\n",
    "**Created Pipeline to make our model building process easy by taking step by step \n",
    "> Simple Imputer to replace NaN value in model or user forget to gave data to particular column\n",
    "then,it replace it by mean or median \n",
    "OneHotEncoding is also used in this model.\n",
    "Fitting the model to transform the data.\n",
    "Creating model to predct the rating of players by Importing Joblib library\n",
    "Using model to predict the players Rating by giving user input\n",
    "******"
   ]
  },
  {
   "cell_type": "code",
   "execution_count": 2,
   "id": "c9ab0afc",
   "metadata": {
    "execution": {
     "iopub.execute_input": "2024-08-04T06:25:01.526036Z",
     "iopub.status.busy": "2024-08-04T06:25:01.524698Z",
     "iopub.status.idle": "2024-08-04T06:25:01.551883Z",
     "shell.execute_reply": "2024-08-04T06:25:01.550335Z"
    },
    "papermill": {
     "duration": 0.046253,
     "end_time": "2024-08-04T06:25:01.554894",
     "exception": false,
     "start_time": "2024-08-04T06:25:01.508641",
     "status": "completed"
    },
    "tags": []
   },
   "outputs": [],
   "source": [
    "df = pd.read_csv(\"/kaggle/input/football-players-datasets-2015-2024/Latest Football  Players 2024 Data.csv\")"
   ]
  },
  {
   "cell_type": "code",
   "execution_count": null,
   "id": "be7cfb0a",
   "metadata": {
    "papermill": {
     "duration": 0.015226,
     "end_time": "2024-08-04T06:25:01.588168",
     "exception": false,
     "start_time": "2024-08-04T06:25:01.572942",
     "status": "completed"
    },
    "tags": []
   },
   "outputs": [],
   "source": []
  },
  {
   "cell_type": "markdown",
   "id": "bb985de4",
   "metadata": {
    "papermill": {
     "duration": 0.015308,
     "end_time": "2024-08-04T06:25:01.621171",
     "exception": false,
     "start_time": "2024-08-04T06:25:01.605863",
     "status": "completed"
    },
    "tags": []
   },
   "source": [
    "# Tabular Analysis"
   ]
  },
  {
   "cell_type": "code",
   "execution_count": 3,
   "id": "3a58cfe1",
   "metadata": {
    "execution": {
     "iopub.execute_input": "2024-08-04T06:25:01.653560Z",
     "iopub.status.busy": "2024-08-04T06:25:01.653138Z",
     "iopub.status.idle": "2024-08-04T06:25:01.683598Z",
     "shell.execute_reply": "2024-08-04T06:25:01.682400Z"
    },
    "papermill": {
     "duration": 0.049746,
     "end_time": "2024-08-04T06:25:01.686294",
     "exception": false,
     "start_time": "2024-08-04T06:25:01.636548",
     "status": "completed"
    },
    "tags": []
   },
   "outputs": [
    {
     "data": {
      "text/html": [
       "<div>\n",
       "<style scoped>\n",
       "    .dataframe tbody tr th:only-of-type {\n",
       "        vertical-align: middle;\n",
       "    }\n",
       "\n",
       "    .dataframe tbody tr th {\n",
       "        vertical-align: top;\n",
       "    }\n",
       "\n",
       "    .dataframe thead th {\n",
       "        text-align: right;\n",
       "    }\n",
       "</style>\n",
       "<table border=\"1\" class=\"dataframe\">\n",
       "  <thead>\n",
       "    <tr style=\"text-align: right;\">\n",
       "      <th></th>\n",
       "      <th>Teams</th>\n",
       "      <th>Seasons</th>\n",
       "      <th>Players</th>\n",
       "      <th>Matches</th>\n",
       "      <th>Goals</th>\n",
       "      <th>Assists</th>\n",
       "      <th>Seasons Ratings</th>\n",
       "    </tr>\n",
       "  </thead>\n",
       "  <tbody>\n",
       "    <tr>\n",
       "      <th>0</th>\n",
       "      <td>InterMiami</td>\n",
       "      <td>2024</td>\n",
       "      <td>Lionel Messi</td>\n",
       "      <td>15</td>\n",
       "      <td>14</td>\n",
       "      <td>11</td>\n",
       "      <td>8.5</td>\n",
       "    </tr>\n",
       "    <tr>\n",
       "      <th>1</th>\n",
       "      <td>InterMiami</td>\n",
       "      <td>2023</td>\n",
       "      <td>Lionel Messi</td>\n",
       "      <td>14</td>\n",
       "      <td>11</td>\n",
       "      <td>5</td>\n",
       "      <td>8.0</td>\n",
       "    </tr>\n",
       "    <tr>\n",
       "      <th>2</th>\n",
       "      <td>PSG</td>\n",
       "      <td>2022/2023</td>\n",
       "      <td>Lionel Messi</td>\n",
       "      <td>41</td>\n",
       "      <td>21</td>\n",
       "      <td>20</td>\n",
       "      <td>8.1</td>\n",
       "    </tr>\n",
       "    <tr>\n",
       "      <th>3</th>\n",
       "      <td>PSG</td>\n",
       "      <td>2021/2022</td>\n",
       "      <td>Lionel Messi</td>\n",
       "      <td>34</td>\n",
       "      <td>11</td>\n",
       "      <td>14</td>\n",
       "      <td>7.9</td>\n",
       "    </tr>\n",
       "    <tr>\n",
       "      <th>4</th>\n",
       "      <td>Barcelona</td>\n",
       "      <td>2020/2021</td>\n",
       "      <td>Lionel Messi</td>\n",
       "      <td>47</td>\n",
       "      <td>38</td>\n",
       "      <td>12</td>\n",
       "      <td>8.4</td>\n",
       "    </tr>\n",
       "  </tbody>\n",
       "</table>\n",
       "</div>"
      ],
      "text/plain": [
       "        Teams    Seasons       Players  Matches  Goals  Assists  \\\n",
       "0  InterMiami       2024  Lionel Messi       15     14       11   \n",
       "1  InterMiami       2023  Lionel Messi       14     11        5   \n",
       "2         PSG  2022/2023  Lionel Messi       41     21       20   \n",
       "3         PSG  2021/2022  Lionel Messi       34     11       14   \n",
       "4   Barcelona  2020/2021  Lionel Messi       47     38       12   \n",
       "\n",
       "   Seasons Ratings  \n",
       "0              8.5  \n",
       "1              8.0  \n",
       "2              8.1  \n",
       "3              7.9  \n",
       "4              8.4  "
      ]
     },
     "execution_count": 3,
     "metadata": {},
     "output_type": "execute_result"
    }
   ],
   "source": [
    "df.head()"
   ]
  },
  {
   "cell_type": "code",
   "execution_count": 4,
   "id": "bba284fd",
   "metadata": {
    "execution": {
     "iopub.execute_input": "2024-08-04T06:25:01.721825Z",
     "iopub.status.busy": "2024-08-04T06:25:01.719836Z",
     "iopub.status.idle": "2024-08-04T06:25:01.750540Z",
     "shell.execute_reply": "2024-08-04T06:25:01.748984Z"
    },
    "papermill": {
     "duration": 0.052231,
     "end_time": "2024-08-04T06:25:01.753790",
     "exception": false,
     "start_time": "2024-08-04T06:25:01.701559",
     "status": "completed"
    },
    "tags": []
   },
   "outputs": [
    {
     "name": "stdout",
     "output_type": "stream",
     "text": [
      "<class 'pandas.core.frame.DataFrame'>\n",
      "RangeIndex: 1216 entries, 0 to 1215\n",
      "Data columns (total 7 columns):\n",
      " #   Column           Non-Null Count  Dtype  \n",
      "---  ------           --------------  -----  \n",
      " 0   Teams            1216 non-null   object \n",
      " 1   Seasons          1216 non-null   object \n",
      " 2   Players          1216 non-null   object \n",
      " 3   Matches          1216 non-null   int64  \n",
      " 4   Goals            1216 non-null   int64  \n",
      " 5   Assists          1216 non-null   int64  \n",
      " 6   Seasons Ratings  1216 non-null   float64\n",
      "dtypes: float64(1), int64(3), object(3)\n",
      "memory usage: 66.6+ KB\n"
     ]
    }
   ],
   "source": [
    "df.info()"
   ]
  },
  {
   "cell_type": "code",
   "execution_count": 5,
   "id": "164fdfce",
   "metadata": {
    "execution": {
     "iopub.execute_input": "2024-08-04T06:25:01.786465Z",
     "iopub.status.busy": "2024-08-04T06:25:01.786048Z",
     "iopub.status.idle": "2024-08-04T06:25:01.812487Z",
     "shell.execute_reply": "2024-08-04T06:25:01.811305Z"
    },
    "papermill": {
     "duration": 0.04573,
     "end_time": "2024-08-04T06:25:01.815037",
     "exception": false,
     "start_time": "2024-08-04T06:25:01.769307",
     "status": "completed"
    },
    "tags": []
   },
   "outputs": [
    {
     "data": {
      "text/html": [
       "<div>\n",
       "<style scoped>\n",
       "    .dataframe tbody tr th:only-of-type {\n",
       "        vertical-align: middle;\n",
       "    }\n",
       "\n",
       "    .dataframe tbody tr th {\n",
       "        vertical-align: top;\n",
       "    }\n",
       "\n",
       "    .dataframe thead th {\n",
       "        text-align: right;\n",
       "    }\n",
       "</style>\n",
       "<table border=\"1\" class=\"dataframe\">\n",
       "  <thead>\n",
       "    <tr style=\"text-align: right;\">\n",
       "      <th></th>\n",
       "      <th>Matches</th>\n",
       "      <th>Goals</th>\n",
       "      <th>Assists</th>\n",
       "      <th>Seasons Ratings</th>\n",
       "    </tr>\n",
       "  </thead>\n",
       "  <tbody>\n",
       "    <tr>\n",
       "      <th>count</th>\n",
       "      <td>1216.000000</td>\n",
       "      <td>1216.000000</td>\n",
       "      <td>1216.000000</td>\n",
       "      <td>1216.000000</td>\n",
       "    </tr>\n",
       "    <tr>\n",
       "      <th>mean</th>\n",
       "      <td>37.024671</td>\n",
       "      <td>8.059211</td>\n",
       "      <td>4.797697</td>\n",
       "      <td>7.111595</td>\n",
       "    </tr>\n",
       "    <tr>\n",
       "      <th>std</th>\n",
       "      <td>11.762088</td>\n",
       "      <td>9.351558</td>\n",
       "      <td>4.496019</td>\n",
       "      <td>0.410907</td>\n",
       "    </tr>\n",
       "    <tr>\n",
       "      <th>min</th>\n",
       "      <td>1.000000</td>\n",
       "      <td>0.000000</td>\n",
       "      <td>0.000000</td>\n",
       "      <td>5.100000</td>\n",
       "    </tr>\n",
       "    <tr>\n",
       "      <th>25%</th>\n",
       "      <td>31.000000</td>\n",
       "      <td>2.000000</td>\n",
       "      <td>1.000000</td>\n",
       "      <td>6.900000</td>\n",
       "    </tr>\n",
       "    <tr>\n",
       "      <th>50%</th>\n",
       "      <td>39.000000</td>\n",
       "      <td>4.000000</td>\n",
       "      <td>4.000000</td>\n",
       "      <td>7.100000</td>\n",
       "    </tr>\n",
       "    <tr>\n",
       "      <th>75%</th>\n",
       "      <td>46.000000</td>\n",
       "      <td>12.000000</td>\n",
       "      <td>7.000000</td>\n",
       "      <td>7.300000</td>\n",
       "    </tr>\n",
       "    <tr>\n",
       "      <th>max</th>\n",
       "      <td>59.000000</td>\n",
       "      <td>55.000000</td>\n",
       "      <td>25.000000</td>\n",
       "      <td>8.900000</td>\n",
       "    </tr>\n",
       "  </tbody>\n",
       "</table>\n",
       "</div>"
      ],
      "text/plain": [
       "           Matches        Goals      Assists  Seasons Ratings\n",
       "count  1216.000000  1216.000000  1216.000000      1216.000000\n",
       "mean     37.024671     8.059211     4.797697         7.111595\n",
       "std      11.762088     9.351558     4.496019         0.410907\n",
       "min       1.000000     0.000000     0.000000         5.100000\n",
       "25%      31.000000     2.000000     1.000000         6.900000\n",
       "50%      39.000000     4.000000     4.000000         7.100000\n",
       "75%      46.000000    12.000000     7.000000         7.300000\n",
       "max      59.000000    55.000000    25.000000         8.900000"
      ]
     },
     "execution_count": 5,
     "metadata": {},
     "output_type": "execute_result"
    }
   ],
   "source": [
    "df.describe()"
   ]
  },
  {
   "cell_type": "code",
   "execution_count": 6,
   "id": "0fbcf07f",
   "metadata": {
    "execution": {
     "iopub.execute_input": "2024-08-04T06:25:01.848867Z",
     "iopub.status.busy": "2024-08-04T06:25:01.848467Z",
     "iopub.status.idle": "2024-08-04T06:25:01.858645Z",
     "shell.execute_reply": "2024-08-04T06:25:01.857252Z"
    },
    "papermill": {
     "duration": 0.03019,
     "end_time": "2024-08-04T06:25:01.861220",
     "exception": false,
     "start_time": "2024-08-04T06:25:01.831030",
     "status": "completed"
    },
    "tags": []
   },
   "outputs": [
    {
     "data": {
      "text/plain": [
       "Teams              0\n",
       "Seasons            0\n",
       "Players            0\n",
       "Matches            0\n",
       "Goals              0\n",
       "Assists            0\n",
       "Seasons Ratings    0\n",
       "dtype: int64"
      ]
     },
     "execution_count": 6,
     "metadata": {},
     "output_type": "execute_result"
    }
   ],
   "source": [
    "df.isnull().sum()"
   ]
  },
  {
   "cell_type": "markdown",
   "id": "0790c6ce",
   "metadata": {
    "papermill": {
     "duration": 0.016635,
     "end_time": "2024-08-04T06:25:01.893911",
     "exception": false,
     "start_time": "2024-08-04T06:25:01.877276",
     "status": "completed"
    },
    "tags": []
   },
   "source": [
    "# DATA VISUALISATION\n",
    "> Gaining import information from analysis "
   ]
  },
  {
   "cell_type": "code",
   "execution_count": 7,
   "id": "0eefa4ce",
   "metadata": {
    "execution": {
     "iopub.execute_input": "2024-08-04T06:25:01.928630Z",
     "iopub.status.busy": "2024-08-04T06:25:01.927763Z",
     "iopub.status.idle": "2024-08-04T06:25:02.545773Z",
     "shell.execute_reply": "2024-08-04T06:25:02.544615Z"
    },
    "papermill": {
     "duration": 0.637644,
     "end_time": "2024-08-04T06:25:02.548378",
     "exception": false,
     "start_time": "2024-08-04T06:25:01.910734",
     "status": "completed"
    },
    "tags": []
   },
   "outputs": [
    {
     "data": {
      "image/png": "[encoded data removed]",
      "text/plain": [
       "<Figure size 1200x800 with 1 Axes>"
      ]
     },
     "metadata": {},
     "output_type": "display_data"
    }
   ],
   "source": [
    "# Assuming 'df' is your DataFrame\n",
    "top_players = df.nlargest(10, 'Goals')  # Get the top 10 players with the most goals\n",
    "\n",
    "# Melt the DataFrame to have a long format\n",
    "melted_top_players = top_players.melt(id_vars=['Players'], value_vars=['Goals', 'Assists'], \n",
    "                                      var_name='Metric', value_name='Count')\n",
    "\n",
    "plt.figure(figsize=(12, 8))\n",
    "sns.barplot(x='Players', y='Count', hue='Metric', data=melted_top_players)\n",
    "plt.xlabel(\"Players\")\n",
    "plt.ylabel('Count')\n",
    "plt.title('Top Players with Goals and Assists')\n",
    "plt.legend(title='Metric')\n",
    "plt.show()\n"
   ]
  },
  {
   "cell_type": "code",
   "execution_count": 8,
   "id": "3338c2ab",
   "metadata": {
    "execution": {
     "iopub.execute_input": "2024-08-04T06:25:02.582957Z",
     "iopub.status.busy": "2024-08-04T06:25:02.582542Z",
     "iopub.status.idle": "2024-08-04T06:25:03.785962Z",
     "shell.execute_reply": "2024-08-04T06:25:03.784669Z"
    },
    "papermill": {
     "duration": 1.225164,
     "end_time": "2024-08-04T06:25:03.789396",
     "exception": false,
     "start_time": "2024-08-04T06:25:02.564232",
     "status": "completed"
    },
    "tags": []
   },
   "outputs": [
    {
     "data": {
      "image/png": "[encoded data removed]",
      "text/plain": [
       "<Figure size 1200x1800 with 3 Axes>"
      ]
     },
     "metadata": {},
     "output_type": "display_data"
    }
   ],
   "source": [
    "# Assuming 'df' is your DataFrame\n",
    "top_players = df.nlargest(10, 'Goals')  # Get the top 10 players with the most goals\n",
    "\n",
    "# Create a figure with 3 subplots\n",
    "fig, axes = plt.subplots(3, 1, figsize=(12, 18))\n",
    "\n",
    "# Plot Goals\n",
    "sns.barplot(ax=axes[0], x='Players', y='Goals', data=top_players)\n",
    "axes[0].set_title('Top Scorers of 2024 - Goals')\n",
    "axes[0].set_xlabel('Players')\n",
    "axes[0].set_ylabel('Goals')\n",
    "\n",
    "# Plot Assists\n",
    "sns.barplot(ax=axes[1], x='Players', y='Assists', data=top_players)\n",
    "axes[1].set_title('Top Scorers of 2024 - Assists')\n",
    "axes[1].set_xlabel('Players')\n",
    "axes[1].set_ylabel('Assists')\n",
    "\n",
    "# Plot Matches\n",
    "sns.barplot(ax=axes[2], x='Players', y='Matches', data=top_players)\n",
    "axes[2].set_title('Top Scorers of 2024 - Matches')\n",
    "axes[2].set_xlabel('Players')\n",
    "axes[2].set_ylabel('Matches')\n",
    "\n",
    "# Adjust the layout\n",
    "plt.tight_layout()\n",
    "\n",
    "# Show the plot\n",
    "plt.show()\n"
   ]
  },
  {
   "cell_type": "code",
   "execution_count": 9,
   "id": "e166a939",
   "metadata": {
    "execution": {
     "iopub.execute_input": "2024-08-04T06:25:03.827557Z",
     "iopub.status.busy": "2024-08-04T06:25:03.826666Z",
     "iopub.status.idle": "2024-08-04T06:25:04.338487Z",
     "shell.execute_reply": "2024-08-04T06:25:04.337173Z"
    },
    "papermill": {
     "duration": 0.533726,
     "end_time": "2024-08-04T06:25:04.341288",
     "exception": false,
     "start_time": "2024-08-04T06:25:03.807562",
     "status": "completed"
    },
    "tags": []
   },
   "outputs": [
    {
     "data": {
      "image/png": "[encoded data removed]",
      "text/plain": [
       "<Figure size 1200x800 with 1 Axes>"
      ]
     },
     "metadata": {},
     "output_type": "display_data"
    }
   ],
   "source": [
    "# Assuming 'df' is your DataFrame\n",
    "# Get the players with the lowest goals (change the 10 to the number of players you want)\n",
    "bottom_players = df.nsmallest(10, 'Goals')\n",
    "\n",
    "# Melt the DataFrame to have a long format\n",
    "melted_bottom_players = bottom_players.melt(id_vars=['Players'], value_vars=['Goals', 'Assists'], \n",
    "                                            var_name='Metric', value_name='Count')\n",
    "plt.figure(figsize=(12, 8))\n",
    "sns.barplot(y='Players', x='Count', hue='Metric', data=melted_bottom_players, orient='h')\n",
    "plt.ylabel(\"Players\")\n",
    "plt.xlabel('Count')\n",
    "plt.title('Players with Lowest Goals and Their Assists')\n",
    "plt.legend(title='Metric')\n",
    "plt.show()\n"
   ]
  },
  {
   "cell_type": "code",
   "execution_count": 10,
   "id": "ed11faf7",
   "metadata": {
    "execution": {
     "iopub.execute_input": "2024-08-04T06:25:04.378284Z",
     "iopub.status.busy": "2024-08-04T06:25:04.377912Z",
     "iopub.status.idle": "2024-08-04T06:25:04.721548Z",
     "shell.execute_reply": "2024-08-04T06:25:04.720504Z"
    },
    "papermill": {
     "duration": 0.365316,
     "end_time": "2024-08-04T06:25:04.724256",
     "exception": false,
     "start_time": "2024-08-04T06:25:04.358940",
     "status": "completed"
    },
    "scrolled": true,
    "tags": []
   },
   "outputs": [
    {
     "data": {
      "image/png": "[encoded data removed]",
      "text/plain": [
       "<Figure size 1000x1000 with 1 Axes>"
      ]
     },
     "metadata": {},
     "output_type": "display_data"
    }
   ],
   "source": [
    "# Assuming 'df' is your DataFrame\n",
    "top_players = df.nlargest(10, 'Goals')  # Get the top 10 players with the most goals\n",
    "\n",
    "plt.figure(figsize=(10, 10))\n",
    "sns.barplot(x='Players', y='Goals', data=top_players)\n",
    "plt.xlabel(\"Players\")\n",
    "plt.ylabel('Goals')\n",
    "plt.title('Top Scorer of 2024')\n",
    "plt.show()\n"
   ]
  },
  {
   "cell_type": "code",
   "execution_count": 11,
   "id": "d9d97d77",
   "metadata": {
    "execution": {
     "iopub.execute_input": "2024-08-04T06:25:04.763102Z",
     "iopub.status.busy": "2024-08-04T06:25:04.762713Z",
     "iopub.status.idle": "2024-08-04T06:25:05.084282Z",
     "shell.execute_reply": "2024-08-04T06:25:05.082645Z"
    },
    "papermill": {
     "duration": 0.344811,
     "end_time": "2024-08-04T06:25:05.087742",
     "exception": false,
     "start_time": "2024-08-04T06:25:04.742931",
     "status": "completed"
    },
    "tags": []
   },
   "outputs": [
    {
     "data": {
      "image/png": "[encoded data removed]",
      "text/plain": [
       "<Figure size 1000x1000 with 1 Axes>"
      ]
     },
     "metadata": {},
     "output_type": "display_data"
    }
   ],
   "source": [
    "# Assuming 'df' is your DataFrame\n",
    "top_players = df.nlargest(10, 'Seasons Ratings')  # Get the top 10 players with the most goals\n",
    "\n",
    "plt.figure(figsize=(10, 10))\n",
    "sns.barplot(x='Players', y='Seasons Ratings', data=top_players)\n",
    "plt.xlabel(\"Players\")\n",
    "plt.ylabel('Seasons Ratings')\n",
    "plt.title('Top Rated player of 2024')\n",
    "plt.show()\n"
   ]
  },
  {
   "cell_type": "code",
   "execution_count": 12,
   "id": "beff3b1a",
   "metadata": {
    "execution": {
     "iopub.execute_input": "2024-08-04T06:25:05.141489Z",
     "iopub.status.busy": "2024-08-04T06:25:05.141106Z",
     "iopub.status.idle": "2024-08-04T06:25:05.535838Z",
     "shell.execute_reply": "2024-08-04T06:25:05.534665Z"
    },
    "papermill": {
     "duration": 0.423855,
     "end_time": "2024-08-04T06:25:05.538372",
     "exception": false,
     "start_time": "2024-08-04T06:25:05.114517",
     "status": "completed"
    },
    "tags": []
   },
   "outputs": [
    {
     "data": {
      "image/png": "[encoded data removed]",
      "text/plain": [
       "<Figure size 800x600 with 2 Axes>"
      ]
     },
     "metadata": {},
     "output_type": "display_data"
    }
   ],
   "source": [
    "# Selecting only numerical columns for the heatmap\n",
    "numerical_df = df[['Matches','Goals','Assists'           \n",
    ",'Seasons Ratings']]\n",
    "\n",
    "plt.figure(figsize=(8, 6))\n",
    "sns.heatmap(data=numerical_df.corr(), annot=True, cmap='coolwarm')\n",
    "plt.title('Correlation Heatmap of Goals and Assists')\n",
    "plt.show()\n"
   ]
  },
  {
   "cell_type": "markdown",
   "id": "c595e735",
   "metadata": {
    "papermill": {
     "duration": 0.019149,
     "end_time": "2024-08-04T06:25:05.577103",
     "exception": false,
     "start_time": "2024-08-04T06:25:05.557954",
     "status": "completed"
    },
    "tags": []
   },
   "source": [
    "**Dropped the column **"
   ]
  },
  {
   "cell_type": "code",
   "execution_count": 13,
   "id": "28d3c85e",
   "metadata": {
    "execution": {
     "iopub.execute_input": "2024-08-04T06:25:05.618761Z",
     "iopub.status.busy": "2024-08-04T06:25:05.618326Z",
     "iopub.status.idle": "2024-08-04T06:25:05.624853Z",
     "shell.execute_reply": "2024-08-04T06:25:05.623546Z"
    },
    "papermill": {
     "duration": 0.030016,
     "end_time": "2024-08-04T06:25:05.627470",
     "exception": false,
     "start_time": "2024-08-04T06:25:05.597454",
     "status": "completed"
    },
    "tags": []
   },
   "outputs": [],
   "source": [
    "df=df.drop(columns=['Seasons'])"
   ]
  },
  {
   "cell_type": "code",
   "execution_count": 14,
   "id": "938f438c",
   "metadata": {
    "execution": {
     "iopub.execute_input": "2024-08-04T06:25:05.668714Z",
     "iopub.status.busy": "2024-08-04T06:25:05.668273Z",
     "iopub.status.idle": "2024-08-04T06:25:05.674753Z",
     "shell.execute_reply": "2024-08-04T06:25:05.673647Z"
    },
    "papermill": {
     "duration": 0.029537,
     "end_time": "2024-08-04T06:25:05.677210",
     "exception": false,
     "start_time": "2024-08-04T06:25:05.647673",
     "status": "completed"
    },
    "tags": []
   },
   "outputs": [],
   "source": [
    "X = df.drop(columns=['Seasons Ratings'])\n",
    "y = df['Seasons Ratings']"
   ]
  },
  {
   "cell_type": "markdown",
   "id": "dac689e9",
   "metadata": {
    "papermill": {
     "duration": 0.018882,
     "end_time": "2024-08-04T06:25:05.715376",
     "exception": false,
     "start_time": "2024-08-04T06:25:05.696494",
     "status": "completed"
    },
    "tags": []
   },
   "source": [
    "# Training and Testing the data. Ensure our data predict proper after testing it. "
   ]
  },
  {
   "cell_type": "code",
   "execution_count": 15,
   "id": "6b4fa1df",
   "metadata": {
    "execution": {
     "iopub.execute_input": "2024-08-04T06:25:05.756216Z",
     "iopub.status.busy": "2024-08-04T06:25:05.755844Z",
     "iopub.status.idle": "2024-08-04T06:25:05.772774Z",
     "shell.execute_reply": "2024-08-04T06:25:05.771638Z"
    },
    "papermill": {
     "duration": 0.040501,
     "end_time": "2024-08-04T06:25:05.775271",
     "exception": false,
     "start_time": "2024-08-04T06:25:05.734770",
     "status": "completed"
    },
    "tags": []
   },
   "outputs": [
    {
     "data": {
      "text/plain": [
       "(                  Teams          Players  Matches  Goals  Assists\n",
       " 432             Sevilla     Jules Kounde       44      3        1\n",
       " 277             Chelsea      Kai Havertz       47     14        5\n",
       " 721            Man City    Manuel Akanji       48      4        0\n",
       " 991     Atletico Madrid    Thomas Partey       24      1        4\n",
       " 678     Atletico Madrid  Rodrigo De Paul       48      4        1\n",
       " ...                 ...              ...      ...    ...      ...\n",
       " 1044          Wolfsburg   Victor Osimhen       13      0        0\n",
       " 1095           Juventus    Adrien Rabiot       45      0        2\n",
       " 1130           Brighton       Lewis Dunk       39      1        1\n",
       " 860   Linares Deportivo     Fermin Lopez       40     12        0\n",
       " 1126           Brighton       Lewis Dunk       31      1        0\n",
       " \n",
       " [972 rows x 5 columns],\n",
       " 432     7.3\n",
       " 277     7.1\n",
       " 721     7.2\n",
       " 991     6.7\n",
       " 678     7.1\n",
       "        ... \n",
       " 1044    5.8\n",
       " 1095    7.2\n",
       " 1130    6.7\n",
       " 860     6.1\n",
       " 1126    6.9\n",
       " Name: Seasons Ratings, Length: 972, dtype: float64)"
      ]
     },
     "execution_count": 15,
     "metadata": {},
     "output_type": "execute_result"
    }
   ],
   "source": [
    "X_train,X_test,y_train,y_test = train_test_split(X,y, random_state=42,test_size=0.2)\n",
    "X_train,y_train"
   ]
  },
  {
   "cell_type": "markdown",
   "id": "dcce078c",
   "metadata": {
    "papermill": {
     "duration": 0.019132,
     "end_time": "2024-08-04T06:25:05.813908",
     "exception": false,
     "start_time": "2024-08-04T06:25:05.794776",
     "status": "completed"
    },
    "tags": []
   },
   "source": [
    "# Using Pipeline to split data into step to make proper work"
   ]
  },
  {
   "cell_type": "code",
   "execution_count": 16,
   "id": "50cedef6",
   "metadata": {
    "execution": {
     "iopub.execute_input": "2024-08-04T06:25:05.912665Z",
     "iopub.status.busy": "2024-08-04T06:25:05.911520Z",
     "iopub.status.idle": "2024-08-04T06:25:05.917970Z",
     "shell.execute_reply": "2024-08-04T06:25:05.916861Z"
    },
    "papermill": {
     "duration": 0.087203,
     "end_time": "2024-08-04T06:25:05.920515",
     "exception": false,
     "start_time": "2024-08-04T06:25:05.833312",
     "status": "completed"
    },
    "tags": []
   },
   "outputs": [],
   "source": [
    "categorical_features = ['Players', 'Teams']\n",
    "categorical_transformer = Pipeline(steps=[\n",
    "    ('imputer', SimpleImputer(strategy='constant', fill_value='missing')),\n",
    "    ('onehot', OneHotEncoder(handle_unknown='ignore'))\n",
    "])"
   ]
  },
  {
   "cell_type": "code",
   "execution_count": 17,
   "id": "4613a2fe",
   "metadata": {
    "execution": {
     "iopub.execute_input": "2024-08-04T06:25:05.970754Z",
     "iopub.status.busy": "2024-08-04T06:25:05.970249Z",
     "iopub.status.idle": "2024-08-04T06:25:05.976992Z",
     "shell.execute_reply": "2024-08-04T06:25:05.975874Z"
    },
    "papermill": {
     "duration": 0.036163,
     "end_time": "2024-08-04T06:25:05.979761",
     "exception": false,
     "start_time": "2024-08-04T06:25:05.943598",
     "status": "completed"
    },
    "tags": []
   },
   "outputs": [],
   "source": [
    "numerical_features = ['Matches','Goals','Assists']\n",
    "numerical_transformer = Pipeline(steps=[\n",
    "    ('imputer', SimpleImputer(strategy='median')),\n",
    "    ('scaler', StandardScaler())\n",
    "])"
   ]
  },
  {
   "cell_type": "code",
   "execution_count": 18,
   "id": "6542a87d",
   "metadata": {
    "execution": {
     "iopub.execute_input": "2024-08-04T06:25:06.030158Z",
     "iopub.status.busy": "2024-08-04T06:25:06.029745Z",
     "iopub.status.idle": "2024-08-04T06:25:06.035262Z",
     "shell.execute_reply": "2024-08-04T06:25:06.034171Z"
    },
    "papermill": {
     "duration": 0.029187,
     "end_time": "2024-08-04T06:25:06.037698",
     "exception": false,
     "start_time": "2024-08-04T06:25:06.008511",
     "status": "completed"
    },
    "tags": []
   },
   "outputs": [],
   "source": [
    "# Combine preprocessing steps\n",
    "preprocessor = ColumnTransformer(\n",
    "    transformers=[\n",
    "        ('num', numerical_transformer, numerical_features),\n",
    "        ('cat', categorical_transformer, categorical_features)\n",
    "    ])"
   ]
  },
  {
   "cell_type": "code",
   "execution_count": 19,
   "id": "72305a60",
   "metadata": {
    "execution": {
     "iopub.execute_input": "2024-08-04T06:25:06.079422Z",
     "iopub.status.busy": "2024-08-04T06:25:06.079040Z",
     "iopub.status.idle": "2024-08-04T06:25:06.085172Z",
     "shell.execute_reply": "2024-08-04T06:25:06.083899Z"
    },
    "papermill": {
     "duration": 0.029933,
     "end_time": "2024-08-04T06:25:06.087650",
     "exception": false,
     "start_time": "2024-08-04T06:25:06.057717",
     "status": "completed"
    },
    "tags": []
   },
   "outputs": [],
   "source": [
    "# Create the full pipeline with a model\n",
    "model = Pipeline(steps=[\n",
    "    ('preprocessor', preprocessor),\n",
    "    ('regressor', RandomForestRegressor(n_estimators=100, random_state=42))\n",
    "])"
   ]
  },
  {
   "cell_type": "code",
   "execution_count": 20,
   "id": "27d937ec",
   "metadata": {
    "execution": {
     "iopub.execute_input": "2024-08-04T06:25:06.129211Z",
     "iopub.status.busy": "2024-08-04T06:25:06.128797Z",
     "iopub.status.idle": "2024-08-04T06:25:07.983017Z",
     "shell.execute_reply": "2024-08-04T06:25:07.981901Z"
    },
    "papermill": {
     "duration": 1.878233,
     "end_time": "2024-08-04T06:25:07.985566",
     "exception": false,
     "start_time": "2024-08-04T06:25:06.107333",
     "status": "completed"
    },
    "tags": []
   },
   "outputs": [
    {
     "data": {
      "text/html": [
       "<style>#sk-container-id-1 {color: black;background-color: white;}#sk-container-id-1 pre{padding: 0;}#sk-container-id-1 div.sk-toggleable {background-color: white;}#sk-container-id-1 label.sk-toggleable__label {cursor: pointer;display: block;width: 100%;margin-bottom: 0;padding: 0.3em;box-sizing: border-box;text-align: center;}#sk-container-id-1 label.sk-toggleable__label-arrow:before {content: \"▸\";float: left;margin-right: 0.25em;color: #696969;}#sk-container-id-1 label.sk-toggleable__label-arrow:hover:before {color: black;}#sk-container-id-1 div.sk-estimator:hover label.sk-toggleable__label-arrow:before {color: black;}#sk-container-id-1 div.sk-toggleable__content {max-height: 0;max-width: 0;overflow: hidden;text-align: left;background-color: #f0f8ff;}#sk-container-id-1 div.sk-toggleable__content pre {margin: 0.2em;color: black;border-radius: 0.25em;background-color: #f0f8ff;}#sk-container-id-1 input.sk-toggleable__control:checked~div.sk-toggleable__content {max-height: 200px;max-width: 100%;overflow: auto;}#sk-container-id-1 input.sk-toggleable__control:checked~label.sk-toggleable__label-arrow:before {content: \"▾\";}#sk-container-id-1 div.sk-estimator input.sk-toggleable__control:checked~label.sk-toggleable__label {background-color: #d4ebff;}#sk-container-id-1 div.sk-label input.sk-toggleable__control:checked~label.sk-toggleable__label {background-color: #d4ebff;}#sk-container-id-1 input.sk-hidden--visually {border: 0;clip: rect(1px 1px 1px 1px);clip: rect(1px, 1px, 1px, 1px);height: 1px;margin: -1px;overflow: hidden;padding: 0;position: absolute;width: 1px;}#sk-container-id-1 div.sk-estimator {font-family: monospace;background-color: #f0f8ff;border: 1px dotted black;border-radius: 0.25em;box-sizing: border-box;margin-bottom: 0.5em;}#sk-container-id-1 div.sk-estimator:hover {background-color: #d4ebff;}#sk-container-id-1 div.sk-parallel-item::after {content: \"\";width: 100%;border-bottom: 1px solid gray;flex-grow: 1;}#sk-container-id-1 div.sk-label:hover label.sk-toggleable__label {background-color: #d4ebff;}#sk-container-id-1 div.sk-serial::before {content: \"\";position: absolute;border-left: 1px solid gray;box-sizing: border-box;top: 0;bottom: 0;left: 50%;z-index: 0;}#sk-container-id-1 div.sk-serial {display: flex;flex-direction: column;align-items: center;background-color: white;padding-right: 0.2em;padding-left: 0.2em;position: relative;}#sk-container-id-1 div.sk-item {position: relative;z-index: 1;}#sk-container-id-1 div.sk-parallel {display: flex;align-items: stretch;justify-content: center;background-color: white;position: relative;}#sk-container-id-1 div.sk-item::before, #sk-container-id-1 div.sk-parallel-item::before {content: \"\";position: absolute;border-left: 1px solid gray;box-sizing: border-box;top: 0;bottom: 0;left: 50%;z-index: -1;}#sk-container-id-1 div.sk-parallel-item {display: flex;flex-direction: column;z-index: 1;position: relative;background-color: white;}#sk-container-id-1 div.sk-parallel-item:first-child::after {align-self: flex-end;width: 50%;}#sk-container-id-1 div.sk-parallel-item:last-child::after {align-self: flex-start;width: 50%;}#sk-container-id-1 div.sk-parallel-item:only-child::after {width: 0;}#sk-container-id-1 div.sk-dashed-wrapped {border: 1px dashed gray;margin: 0 0.4em 0.5em 0.4em;box-sizing: border-box;padding-bottom: 0.4em;background-color: white;}#sk-container-id-1 div.sk-label label {font-family: monospace;font-weight: bold;display: inline-block;line-height: 1.2em;}#sk-container-id-1 div.sk-label-container {text-align: center;}#sk-container-id-1 div.sk-container {/* jupyter's `normalize.less` sets `[hidden] { display: none; }` but bootstrap.min.css set `[hidden] { display: none !important; }` so we also need the `!important` here to be able to override the default hidden behavior on the sphinx rendered scikit-learn.org. See: https://github.com/scikit-learn/scikit-learn/issues/21755 */display: inline-block !important;position: relative;}#sk-container-id-1 div.sk-text-repr-fallback {display: none;}</style><div id=\"sk-container-id-1\" class=\"sk-top-container\"><div class=\"sk-text-repr-fallback\"><pre>Pipeline(steps=[(&#x27;preprocessor&#x27;,\n",
       "                 ColumnTransformer(transformers=[(&#x27;num&#x27;,\n",
       "                                                  Pipeline(steps=[(&#x27;imputer&#x27;,\n",
       "                                                                   SimpleImputer(strategy=&#x27;median&#x27;)),\n",
       "                                                                  (&#x27;scaler&#x27;,\n",
       "                                                                   StandardScaler())]),\n",
       "                                                  [&#x27;Matches&#x27;, &#x27;Goals&#x27;,\n",
       "                                                   &#x27;Assists&#x27;]),\n",
       "                                                 (&#x27;cat&#x27;,\n",
       "                                                  Pipeline(steps=[(&#x27;imputer&#x27;,\n",
       "                                                                   SimpleImputer(fill_value=&#x27;missing&#x27;,\n",
       "                                                                                 strategy=&#x27;constant&#x27;)),\n",
       "                                                                  (&#x27;onehot&#x27;,\n",
       "                                                                   OneHotEncoder(handle_unknown=&#x27;ignore&#x27;))]),\n",
       "                                                  [&#x27;Players&#x27;, &#x27;Teams&#x27;])])),\n",
       "                (&#x27;regressor&#x27;, RandomForestRegressor(random_state=42))])</pre><b>In a Jupyter environment, please rerun this cell to show the HTML representation or trust the notebook. <br />On GitHub, the HTML representation is unable to render, please try loading this page with nbviewer.org.</b></div><div class=\"sk-container\" hidden><div class=\"sk-item sk-dashed-wrapped\"><div class=\"sk-label-container\"><div class=\"sk-label sk-toggleable\"><input class=\"sk-toggleable__control sk-hidden--visually\" id=\"sk-estimator-id-1\" type=\"checkbox\" ><label for=\"sk-estimator-id-1\" class=\"sk-toggleable__label sk-toggleable__label-arrow\">Pipeline</label><div class=\"sk-toggleable__content\"><pre>Pipeline(steps=[(&#x27;preprocessor&#x27;,\n",
       "                 ColumnTransformer(transformers=[(&#x27;num&#x27;,\n",
       "                                                  Pipeline(steps=[(&#x27;imputer&#x27;,\n",
       "                                                                   SimpleImputer(strategy=&#x27;median&#x27;)),\n",
       "                                                                  (&#x27;scaler&#x27;,\n",
       "                                                                   StandardScaler())]),\n",
       "                                                  [&#x27;Matches&#x27;, &#x27;Goals&#x27;,\n",
       "                                                   &#x27;Assists&#x27;]),\n",
       "                                                 (&#x27;cat&#x27;,\n",
       "                                                  Pipeline(steps=[(&#x27;imputer&#x27;,\n",
       "                                                                   SimpleImputer(fill_value=&#x27;missing&#x27;,\n",
       "                                                                                 strategy=&#x27;constant&#x27;)),\n",
       "                                                                  (&#x27;onehot&#x27;,\n",
       "                                                                   OneHotEncoder(handle_unknown=&#x27;ignore&#x27;))]),\n",
       "                                                  [&#x27;Players&#x27;, &#x27;Teams&#x27;])])),\n",
       "                (&#x27;regressor&#x27;, RandomForestRegressor(random_state=42))])</pre></div></div></div><div class=\"sk-serial\"><div class=\"sk-item sk-dashed-wrapped\"><div class=\"sk-label-container\"><div class=\"sk-label sk-toggleable\"><input class=\"sk-toggleable__control sk-hidden--visually\" id=\"sk-estimator-id-2\" type=\"checkbox\" ><label for=\"sk-estimator-id-2\" class=\"sk-toggleable__label sk-toggleable__label-arrow\">preprocessor: ColumnTransformer</label><div class=\"sk-toggleable__content\"><pre>ColumnTransformer(transformers=[(&#x27;num&#x27;,\n",
       "                                 Pipeline(steps=[(&#x27;imputer&#x27;,\n",
       "                                                  SimpleImputer(strategy=&#x27;median&#x27;)),\n",
       "                                                 (&#x27;scaler&#x27;, StandardScaler())]),\n",
       "                                 [&#x27;Matches&#x27;, &#x27;Goals&#x27;, &#x27;Assists&#x27;]),\n",
       "                                (&#x27;cat&#x27;,\n",
       "                                 Pipeline(steps=[(&#x27;imputer&#x27;,\n",
       "                                                  SimpleImputer(fill_value=&#x27;missing&#x27;,\n",
       "                                                                strategy=&#x27;constant&#x27;)),\n",
       "                                                 (&#x27;onehot&#x27;,\n",
       "                                                  OneHotEncoder(handle_unknown=&#x27;ignore&#x27;))]),\n",
       "                                 [&#x27;Players&#x27;, &#x27;Teams&#x27;])])</pre></div></div></div><div class=\"sk-parallel\"><div class=\"sk-parallel-item\"><div class=\"sk-item\"><div class=\"sk-label-container\"><div class=\"sk-label sk-toggleable\"><input class=\"sk-toggleable__control sk-hidden--visually\" id=\"sk-estimator-id-3\" type=\"checkbox\" ><label for=\"sk-estimator-id-3\" class=\"sk-toggleable__label sk-toggleable__label-arrow\">num</label><div class=\"sk-toggleable__content\"><pre>[&#x27;Matches&#x27;, &#x27;Goals&#x27;, &#x27;Assists&#x27;]</pre></div></div></div><div class=\"sk-serial\"><div class=\"sk-item\"><div class=\"sk-serial\"><div class=\"sk-item\"><div class=\"sk-estimator sk-toggleable\"><input class=\"sk-toggleable__control sk-hidden--visually\" id=\"sk-estimator-id-4\" type=\"checkbox\" ><label for=\"sk-estimator-id-4\" class=\"sk-toggleable__label sk-toggleable__label-arrow\">SimpleImputer</label><div class=\"sk-toggleable__content\"><pre>SimpleImputer(strategy=&#x27;median&#x27;)</pre></div></div></div><div class=\"sk-item\"><div class=\"sk-estimator sk-toggleable\"><input class=\"sk-toggleable__control sk-hidden--visually\" id=\"sk-estimator-id-5\" type=\"checkbox\" ><label for=\"sk-estimator-id-5\" class=\"sk-toggleable__label sk-toggleable__label-arrow\">StandardScaler</label><div class=\"sk-toggleable__content\"><pre>StandardScaler()</pre></div></div></div></div></div></div></div></div><div class=\"sk-parallel-item\"><div class=\"sk-item\"><div class=\"sk-label-container\"><div class=\"sk-label sk-toggleable\"><input class=\"sk-toggleable__control sk-hidden--visually\" id=\"sk-estimator-id-6\" type=\"checkbox\" ><label for=\"sk-estimator-id-6\" class=\"sk-toggleable__label sk-toggleable__label-arrow\">cat</label><div class=\"sk-toggleable__content\"><pre>[&#x27;Players&#x27;, &#x27;Teams&#x27;]</pre></div></div></div><div class=\"sk-serial\"><div class=\"sk-item\"><div class=\"sk-serial\"><div class=\"sk-item\"><div class=\"sk-estimator sk-toggleable\"><input class=\"sk-toggleable__control sk-hidden--visually\" id=\"sk-estimator-id-7\" type=\"checkbox\" ><label for=\"sk-estimator-id-7\" class=\"sk-toggleable__label sk-toggleable__label-arrow\">SimpleImputer</label><div class=\"sk-toggleable__content\"><pre>SimpleImputer(fill_value=&#x27;missing&#x27;, strategy=&#x27;constant&#x27;)</pre></div></div></div><div class=\"sk-item\"><div class=\"sk-estimator sk-toggleable\"><input class=\"sk-toggleable__control sk-hidden--visually\" id=\"sk-estimator-id-8\" type=\"checkbox\" ><label for=\"sk-estimator-id-8\" class=\"sk-toggleable__label sk-toggleable__label-arrow\">OneHotEncoder</label><div class=\"sk-toggleable__content\"><pre>OneHotEncoder(handle_unknown=&#x27;ignore&#x27;)</pre></div></div></div></div></div></div></div></div></div></div><div class=\"sk-item\"><div class=\"sk-estimator sk-toggleable\"><input class=\"sk-toggleable__control sk-hidden--visually\" id=\"sk-estimator-id-9\" type=\"checkbox\" ><label for=\"sk-estimator-id-9\" class=\"sk-toggleable__label sk-toggleable__label-arrow\">RandomForestRegressor</label><div class=\"sk-toggleable__content\"><pre>RandomForestRegressor(random_state=42)</pre></div></div></div></div></div></div></div>"
      ],
      "text/plain": [
       "Pipeline(steps=[('preprocessor',\n",
       "                 ColumnTransformer(transformers=[('num',\n",
       "                                                  Pipeline(steps=[('imputer',\n",
       "                                                                   SimpleImputer(strategy='median')),\n",
       "                                                                  ('scaler',\n",
       "                                                                   StandardScaler())]),\n",
       "                                                  ['Matches', 'Goals',\n",
       "                                                   'Assists']),\n",
       "                                                 ('cat',\n",
       "                                                  Pipeline(steps=[('imputer',\n",
       "                                                                   SimpleImputer(fill_value='missing',\n",
       "                                                                                 strategy='constant')),\n",
       "                                                                  ('onehot',\n",
       "                                                                   OneHotEncoder(handle_unknown='ignore'))]),\n",
       "                                                  ['Players', 'Teams'])])),\n",
       "                ('regressor', RandomForestRegressor(random_state=42))])"
      ]
     },
     "execution_count": 20,
     "metadata": {},
     "output_type": "execute_result"
    }
   ],
   "source": [
    "model.fit(X_train, y_train)"
   ]
  },
  {
   "cell_type": "code",
   "execution_count": 21,
   "id": "63fbd189",
   "metadata": {
    "execution": {
     "iopub.execute_input": "2024-08-04T06:25:08.029760Z",
     "iopub.status.busy": "2024-08-04T06:25:08.029317Z",
     "iopub.status.idle": "2024-08-04T06:25:08.057871Z",
     "shell.execute_reply": "2024-08-04T06:25:08.056628Z"
    },
    "papermill": {
     "duration": 0.054144,
     "end_time": "2024-08-04T06:25:08.060434",
     "exception": false,
     "start_time": "2024-08-04T06:25:08.006290",
     "status": "completed"
    },
    "tags": []
   },
   "outputs": [
    {
     "name": "stdout",
     "output_type": "stream",
     "text": [
      "Mean Squared Error: 0.09012114341416196\n"
     ]
    }
   ],
   "source": [
    "# Make predictions\n",
    "y_pred = model.predict(X_test)\n",
    "\n",
    "# Evaluate the model\n",
    "mse = mean_squared_error(y_test, y_pred)\n",
    "print(f'Mean Squared Error: {mse}')"
   ]
  },
  {
   "cell_type": "code",
   "execution_count": 22,
   "id": "4e2723ab",
   "metadata": {
    "execution": {
     "iopub.execute_input": "2024-08-04T06:25:08.103560Z",
     "iopub.status.busy": "2024-08-04T06:25:08.103142Z",
     "iopub.status.idle": "2024-08-04T06:26:29.309802Z",
     "shell.execute_reply": "2024-08-04T06:26:29.308204Z"
    },
    "papermill": {
     "duration": 81.231339,
     "end_time": "2024-08-04T06:26:29.312680",
     "exception": false,
     "start_time": "2024-08-04T06:25:08.081341",
     "status": "completed"
    },
    "tags": []
   },
   "outputs": [
    {
     "name": "stderr",
     "output_type": "stream",
     "text": [
      "/opt/conda/lib/python3.10/site-packages/sklearn/ensemble/_forest.py:413: FutureWarning: `max_features='auto'` has been deprecated in 1.1 and will be removed in 1.3. To keep the past behaviour, explicitly set `max_features=1.0` or remove this parameter as it is also the default value for RandomForestRegressors and ExtraTreesRegressors.\n",
      "  warn(\n",
      "/opt/conda/lib/python3.10/site-packages/sklearn/ensemble/_forest.py:413: FutureWarning: `max_features='auto'` has been deprecated in 1.1 and will be removed in 1.3. To keep the past behaviour, explicitly set `max_features=1.0` or remove this parameter as it is also the default value for RandomForestRegressors and ExtraTreesRegressors.\n",
      "  warn(\n",
      "/opt/conda/lib/python3.10/site-packages/sklearn/ensemble/_forest.py:413: FutureWarning: `max_features='auto'` has been deprecated in 1.1 and will be removed in 1.3. To keep the past behaviour, explicitly set `max_features=1.0` or remove this parameter as it is also the default value for RandomForestRegressors and ExtraTreesRegressors.\n",
      "  warn(\n",
      "/opt/conda/lib/python3.10/site-packages/sklearn/ensemble/_forest.py:413: FutureWarning: `max_features='auto'` has been deprecated in 1.1 and will be removed in 1.3. To keep the past behaviour, explicitly set `max_features=1.0` or remove this parameter as it is also the default value for RandomForestRegressors and ExtraTreesRegressors.\n",
      "  warn(\n",
      "/opt/conda/lib/python3.10/site-packages/sklearn/ensemble/_forest.py:413: FutureWarning: `max_features='auto'` has been deprecated in 1.1 and will be removed in 1.3. To keep the past behaviour, explicitly set `max_features=1.0` or remove this parameter as it is also the default value for RandomForestRegressors and ExtraTreesRegressors.\n",
      "  warn(\n",
      "/opt/conda/lib/python3.10/site-packages/sklearn/ensemble/_forest.py:413: FutureWarning: `max_features='auto'` has been deprecated in 1.1 and will be removed in 1.3. To keep the past behaviour, explicitly set `max_features=1.0` or remove this parameter as it is also the default value for RandomForestRegressors and ExtraTreesRegressors.\n",
      "  warn(\n",
      "/opt/conda/lib/python3.10/site-packages/sklearn/ensemble/_forest.py:413: FutureWarning: `max_features='auto'` has been deprecated in 1.1 and will be removed in 1.3. To keep the past behaviour, explicitly set `max_features=1.0` or remove this parameter as it is also the default value for RandomForestRegressors and ExtraTreesRegressors.\n",
      "  warn(\n",
      "/opt/conda/lib/python3.10/site-packages/sklearn/ensemble/_forest.py:413: FutureWarning: `max_features='auto'` has been deprecated in 1.1 and will be removed in 1.3. To keep the past behaviour, explicitly set `max_features=1.0` or remove this parameter as it is also the default value for RandomForestRegressors and ExtraTreesRegressors.\n",
      "  warn(\n",
      "/opt/conda/lib/python3.10/site-packages/sklearn/ensemble/_forest.py:413: FutureWarning: `max_features='auto'` has been deprecated in 1.1 and will be removed in 1.3. To keep the past behaviour, explicitly set `max_features=1.0` or remove this parameter as it is also the default value for RandomForestRegressors and ExtraTreesRegressors.\n",
      "  warn(\n",
      "/opt/conda/lib/python3.10/site-packages/sklearn/ensemble/_forest.py:413: FutureWarning: `max_features='auto'` has been deprecated in 1.1 and will be removed in 1.3. To keep the past behaviour, explicitly set `max_features=1.0` or remove this parameter as it is also the default value for RandomForestRegressors and ExtraTreesRegressors.\n",
      "  warn(\n",
      "/opt/conda/lib/python3.10/site-packages/sklearn/ensemble/_forest.py:413: FutureWarning: `max_features='auto'` has been deprecated in 1.1 and will be removed in 1.3. To keep the past behaviour, explicitly set `max_features=1.0` or remove this parameter as it is also the default value for RandomForestRegressors and ExtraTreesRegressors.\n",
      "  warn(\n",
      "/opt/conda/lib/python3.10/site-packages/sklearn/ensemble/_forest.py:413: FutureWarning: `max_features='auto'` has been deprecated in 1.1 and will be removed in 1.3. To keep the past behaviour, explicitly set `max_features=1.0` or remove this parameter as it is also the default value for RandomForestRegressors and ExtraTreesRegressors.\n",
      "  warn(\n",
      "/opt/conda/lib/python3.10/site-packages/sklearn/ensemble/_forest.py:413: FutureWarning: `max_features='auto'` has been deprecated in 1.1 and will be removed in 1.3. To keep the past behaviour, explicitly set `max_features=1.0` or remove this parameter as it is also the default value for RandomForestRegressors and ExtraTreesRegressors.\n",
      "  warn(\n",
      "/opt/conda/lib/python3.10/site-packages/sklearn/ensemble/_forest.py:413: FutureWarning: `max_features='auto'` has been deprecated in 1.1 and will be removed in 1.3. To keep the past behaviour, explicitly set `max_features=1.0` or remove this parameter as it is also the default value for RandomForestRegressors and ExtraTreesRegressors.\n",
      "  warn(\n",
      "/opt/conda/lib/python3.10/site-packages/sklearn/ensemble/_forest.py:413: FutureWarning: `max_features='auto'` has been deprecated in 1.1 and will be removed in 1.3. To keep the past behaviour, explicitly set `max_features=1.0` or remove this parameter as it is also the default value for RandomForestRegressors and ExtraTreesRegressors.\n",
      "  warn(\n",
      "/opt/conda/lib/python3.10/site-packages/sklearn/ensemble/_forest.py:413: FutureWarning: `max_features='auto'` has been deprecated in 1.1 and will be removed in 1.3. To keep the past behaviour, explicitly set `max_features=1.0` or remove this parameter as it is also the default value for RandomForestRegressors and ExtraTreesRegressors.\n",
      "  warn(\n",
      "/opt/conda/lib/python3.10/site-packages/sklearn/ensemble/_forest.py:413: FutureWarning: `max_features='auto'` has been deprecated in 1.1 and will be removed in 1.3. To keep the past behaviour, explicitly set `max_features=1.0` or remove this parameter as it is also the default value for RandomForestRegressors and ExtraTreesRegressors.\n",
      "  warn(\n",
      "/opt/conda/lib/python3.10/site-packages/sklearn/ensemble/_forest.py:413: FutureWarning: `max_features='auto'` has been deprecated in 1.1 and will be removed in 1.3. To keep the past behaviour, explicitly set `max_features=1.0` or remove this parameter as it is also the default value for RandomForestRegressors and ExtraTreesRegressors.\n",
      "  warn(\n",
      "/opt/conda/lib/python3.10/site-packages/sklearn/ensemble/_forest.py:413: FutureWarning: `max_features='auto'` has been deprecated in 1.1 and will be removed in 1.3. To keep the past behaviour, explicitly set `max_features=1.0` or remove this parameter as it is also the default value for RandomForestRegressors and ExtraTreesRegressors.\n",
      "  warn(\n",
      "/opt/conda/lib/python3.10/site-packages/sklearn/ensemble/_forest.py:413: FutureWarning: `max_features='auto'` has been deprecated in 1.1 and will be removed in 1.3. To keep the past behaviour, explicitly set `max_features=1.0` or remove this parameter as it is also the default value for RandomForestRegressors and ExtraTreesRegressors.\n",
      "  warn(\n",
      "/opt/conda/lib/python3.10/site-packages/sklearn/ensemble/_forest.py:413: FutureWarning: `max_features='auto'` has been deprecated in 1.1 and will be removed in 1.3. To keep the past behaviour, explicitly set `max_features=1.0` or remove this parameter as it is also the default value for RandomForestRegressors and ExtraTreesRegressors.\n",
      "  warn(\n",
      "/opt/conda/lib/python3.10/site-packages/sklearn/ensemble/_forest.py:413: FutureWarning: `max_features='auto'` has been deprecated in 1.1 and will be removed in 1.3. To keep the past behaviour, explicitly set `max_features=1.0` or remove this parameter as it is also the default value for RandomForestRegressors and ExtraTreesRegressors.\n",
      "  warn(\n",
      "/opt/conda/lib/python3.10/site-packages/sklearn/ensemble/_forest.py:413: FutureWarning: `max_features='auto'` has been deprecated in 1.1 and will be removed in 1.3. To keep the past behaviour, explicitly set `max_features=1.0` or remove this parameter as it is also the default value for RandomForestRegressors and ExtraTreesRegressors.\n",
      "  warn(\n",
      "/opt/conda/lib/python3.10/site-packages/sklearn/ensemble/_forest.py:413: FutureWarning: `max_features='auto'` has been deprecated in 1.1 and will be removed in 1.3. To keep the past behaviour, explicitly set `max_features=1.0` or remove this parameter as it is also the default value for RandomForestRegressors and ExtraTreesRegressors.\n",
      "  warn(\n",
      "/opt/conda/lib/python3.10/site-packages/sklearn/ensemble/_forest.py:413: FutureWarning: `max_features='auto'` has been deprecated in 1.1 and will be removed in 1.3. To keep the past behaviour, explicitly set `max_features=1.0` or remove this parameter as it is also the default value for RandomForestRegressors and ExtraTreesRegressors.\n",
      "  warn(\n",
      "/opt/conda/lib/python3.10/site-packages/sklearn/ensemble/_forest.py:413: FutureWarning: `max_features='auto'` has been deprecated in 1.1 and will be removed in 1.3. To keep the past behaviour, explicitly set `max_features=1.0` or remove this parameter as it is also the default value for RandomForestRegressors and ExtraTreesRegressors.\n",
      "  warn(\n",
      "/opt/conda/lib/python3.10/site-packages/sklearn/ensemble/_forest.py:413: FutureWarning: `max_features='auto'` has been deprecated in 1.1 and will be removed in 1.3. To keep the past behaviour, explicitly set `max_features=1.0` or remove this parameter as it is also the default value for RandomForestRegressors and ExtraTreesRegressors.\n",
      "  warn(\n",
      "/opt/conda/lib/python3.10/site-packages/sklearn/ensemble/_forest.py:413: FutureWarning: `max_features='auto'` has been deprecated in 1.1 and will be removed in 1.3. To keep the past behaviour, explicitly set `max_features=1.0` or remove this parameter as it is also the default value for RandomForestRegressors and ExtraTreesRegressors.\n",
      "  warn(\n",
      "/opt/conda/lib/python3.10/site-packages/sklearn/ensemble/_forest.py:413: FutureWarning: `max_features='auto'` has been deprecated in 1.1 and will be removed in 1.3. To keep the past behaviour, explicitly set `max_features=1.0` or remove this parameter as it is also the default value for RandomForestRegressors and ExtraTreesRegressors.\n",
      "  warn(\n",
      "/opt/conda/lib/python3.10/site-packages/sklearn/ensemble/_forest.py:413: FutureWarning: `max_features='auto'` has been deprecated in 1.1 and will be removed in 1.3. To keep the past behaviour, explicitly set `max_features=1.0` or remove this parameter as it is also the default value for RandomForestRegressors and ExtraTreesRegressors.\n",
      "  warn(\n",
      "/opt/conda/lib/python3.10/site-packages/sklearn/ensemble/_forest.py:413: FutureWarning: `max_features='auto'` has been deprecated in 1.1 and will be removed in 1.3. To keep the past behaviour, explicitly set `max_features=1.0` or remove this parameter as it is also the default value for RandomForestRegressors and ExtraTreesRegressors.\n",
      "  warn(\n",
      "/opt/conda/lib/python3.10/site-packages/sklearn/ensemble/_forest.py:413: FutureWarning: `max_features='auto'` has been deprecated in 1.1 and will be removed in 1.3. To keep the past behaviour, explicitly set `max_features=1.0` or remove this parameter as it is also the default value for RandomForestRegressors and ExtraTreesRegressors.\n",
      "  warn(\n",
      "/opt/conda/lib/python3.10/site-packages/sklearn/ensemble/_forest.py:413: FutureWarning: `max_features='auto'` has been deprecated in 1.1 and will be removed in 1.3. To keep the past behaviour, explicitly set `max_features=1.0` or remove this parameter as it is also the default value for RandomForestRegressors and ExtraTreesRegressors.\n",
      "  warn(\n",
      "/opt/conda/lib/python3.10/site-packages/sklearn/ensemble/_forest.py:413: FutureWarning: `max_features='auto'` has been deprecated in 1.1 and will be removed in 1.3. To keep the past behaviour, explicitly set `max_features=1.0` or remove this parameter as it is also the default value for RandomForestRegressors and ExtraTreesRegressors.\n",
      "  warn(\n",
      "/opt/conda/lib/python3.10/site-packages/sklearn/ensemble/_forest.py:413: FutureWarning: `max_features='auto'` has been deprecated in 1.1 and will be removed in 1.3. To keep the past behaviour, explicitly set `max_features=1.0` or remove this parameter as it is also the default value for RandomForestRegressors and ExtraTreesRegressors.\n",
      "  warn(\n",
      "/opt/conda/lib/python3.10/site-packages/sklearn/ensemble/_forest.py:413: FutureWarning: `max_features='auto'` has been deprecated in 1.1 and will be removed in 1.3. To keep the past behaviour, explicitly set `max_features=1.0` or remove this parameter as it is also the default value for RandomForestRegressors and ExtraTreesRegressors.\n",
      "  warn(\n",
      "/opt/conda/lib/python3.10/site-packages/sklearn/ensemble/_forest.py:413: FutureWarning: `max_features='auto'` has been deprecated in 1.1 and will be removed in 1.3. To keep the past behaviour, explicitly set `max_features=1.0` or remove this parameter as it is also the default value for RandomForestRegressors and ExtraTreesRegressors.\n",
      "  warn(\n",
      "/opt/conda/lib/python3.10/site-packages/sklearn/ensemble/_forest.py:413: FutureWarning: `max_features='auto'` has been deprecated in 1.1 and will be removed in 1.3. To keep the past behaviour, explicitly set `max_features=1.0` or remove this parameter as it is also the default value for RandomForestRegressors and ExtraTreesRegressors.\n",
      "  warn(\n",
      "/opt/conda/lib/python3.10/site-packages/sklearn/ensemble/_forest.py:413: FutureWarning: `max_features='auto'` has been deprecated in 1.1 and will be removed in 1.3. To keep the past behaviour, explicitly set `max_features=1.0` or remove this parameter as it is also the default value for RandomForestRegressors and ExtraTreesRegressors.\n",
      "  warn(\n",
      "/opt/conda/lib/python3.10/site-packages/sklearn/ensemble/_forest.py:413: FutureWarning: `max_features='auto'` has been deprecated in 1.1 and will be removed in 1.3. To keep the past behaviour, explicitly set `max_features=1.0` or remove this parameter as it is also the default value for RandomForestRegressors and ExtraTreesRegressors.\n",
      "  warn(\n",
      "/opt/conda/lib/python3.10/site-packages/sklearn/ensemble/_forest.py:413: FutureWarning: `max_features='auto'` has been deprecated in 1.1 and will be removed in 1.3. To keep the past behaviour, explicitly set `max_features=1.0` or remove this parameter as it is also the default value for RandomForestRegressors and ExtraTreesRegressors.\n",
      "  warn(\n",
      "/opt/conda/lib/python3.10/site-packages/sklearn/ensemble/_forest.py:413: FutureWarning: `max_features='auto'` has been deprecated in 1.1 and will be removed in 1.3. To keep the past behaviour, explicitly set `max_features=1.0` or remove this parameter as it is also the default value for RandomForestRegressors and ExtraTreesRegressors.\n",
      "  warn(\n",
      "/opt/conda/lib/python3.10/site-packages/sklearn/ensemble/_forest.py:413: FutureWarning: `max_features='auto'` has been deprecated in 1.1 and will be removed in 1.3. To keep the past behaviour, explicitly set `max_features=1.0` or remove this parameter as it is also the default value for RandomForestRegressors and ExtraTreesRegressors.\n",
      "  warn(\n",
      "/opt/conda/lib/python3.10/site-packages/sklearn/ensemble/_forest.py:413: FutureWarning: `max_features='auto'` has been deprecated in 1.1 and will be removed in 1.3. To keep the past behaviour, explicitly set `max_features=1.0` or remove this parameter as it is also the default value for RandomForestRegressors and ExtraTreesRegressors.\n",
      "  warn(\n",
      "/opt/conda/lib/python3.10/site-packages/sklearn/ensemble/_forest.py:413: FutureWarning: `max_features='auto'` has been deprecated in 1.1 and will be removed in 1.3. To keep the past behaviour, explicitly set `max_features=1.0` or remove this parameter as it is also the default value for RandomForestRegressors and ExtraTreesRegressors.\n",
      "  warn(\n",
      "/opt/conda/lib/python3.10/site-packages/sklearn/ensemble/_forest.py:413: FutureWarning: `max_features='auto'` has been deprecated in 1.1 and will be removed in 1.3. To keep the past behaviour, explicitly set `max_features=1.0` or remove this parameter as it is also the default value for RandomForestRegressors and ExtraTreesRegressors.\n",
      "  warn(\n",
      "/opt/conda/lib/python3.10/site-packages/sklearn/ensemble/_forest.py:413: FutureWarning: `max_features='auto'` has been deprecated in 1.1 and will be removed in 1.3. To keep the past behaviour, explicitly set `max_features=1.0` or remove this parameter as it is also the default value for RandomForestRegressors and ExtraTreesRegressors.\n",
      "  warn(\n",
      "/opt/conda/lib/python3.10/site-packages/sklearn/ensemble/_forest.py:413: FutureWarning: `max_features='auto'` has been deprecated in 1.1 and will be removed in 1.3. To keep the past behaviour, explicitly set `max_features=1.0` or remove this parameter as it is also the default value for RandomForestRegressors and ExtraTreesRegressors.\n",
      "  warn(\n",
      "/opt/conda/lib/python3.10/site-packages/sklearn/ensemble/_forest.py:413: FutureWarning: `max_features='auto'` has been deprecated in 1.1 and will be removed in 1.3. To keep the past behaviour, explicitly set `max_features=1.0` or remove this parameter as it is also the default value for RandomForestRegressors and ExtraTreesRegressors.\n",
      "  warn(\n",
      "/opt/conda/lib/python3.10/site-packages/sklearn/ensemble/_forest.py:413: FutureWarning: `max_features='auto'` has been deprecated in 1.1 and will be removed in 1.3. To keep the past behaviour, explicitly set `max_features=1.0` or remove this parameter as it is also the default value for RandomForestRegressors and ExtraTreesRegressors.\n",
      "  warn(\n",
      "/opt/conda/lib/python3.10/site-packages/sklearn/ensemble/_forest.py:413: FutureWarning: `max_features='auto'` has been deprecated in 1.1 and will be removed in 1.3. To keep the past behaviour, explicitly set `max_features=1.0` or remove this parameter as it is also the default value for RandomForestRegressors and ExtraTreesRegressors.\n",
      "  warn(\n",
      "/opt/conda/lib/python3.10/site-packages/sklearn/ensemble/_forest.py:413: FutureWarning: `max_features='auto'` has been deprecated in 1.1 and will be removed in 1.3. To keep the past behaviour, explicitly set `max_features=1.0` or remove this parameter as it is also the default value for RandomForestRegressors and ExtraTreesRegressors.\n",
      "  warn(\n",
      "/opt/conda/lib/python3.10/site-packages/sklearn/ensemble/_forest.py:413: FutureWarning: `max_features='auto'` has been deprecated in 1.1 and will be removed in 1.3. To keep the past behaviour, explicitly set `max_features=1.0` or remove this parameter as it is also the default value for RandomForestRegressors and ExtraTreesRegressors.\n",
      "  warn(\n",
      "/opt/conda/lib/python3.10/site-packages/sklearn/ensemble/_forest.py:413: FutureWarning: `max_features='auto'` has been deprecated in 1.1 and will be removed in 1.3. To keep the past behaviour, explicitly set `max_features=1.0` or remove this parameter as it is also the default value for RandomForestRegressors and ExtraTreesRegressors.\n",
      "  warn(\n",
      "/opt/conda/lib/python3.10/site-packages/sklearn/ensemble/_forest.py:413: FutureWarning: `max_features='auto'` has been deprecated in 1.1 and will be removed in 1.3. To keep the past behaviour, explicitly set `max_features=1.0` or remove this parameter as it is also the default value for RandomForestRegressors and ExtraTreesRegressors.\n",
      "  warn(\n",
      "/opt/conda/lib/python3.10/site-packages/sklearn/ensemble/_forest.py:413: FutureWarning: `max_features='auto'` has been deprecated in 1.1 and will be removed in 1.3. To keep the past behaviour, explicitly set `max_features=1.0` or remove this parameter as it is also the default value for RandomForestRegressors and ExtraTreesRegressors.\n",
      "  warn(\n",
      "/opt/conda/lib/python3.10/site-packages/sklearn/ensemble/_forest.py:413: FutureWarning: `max_features='auto'` has been deprecated in 1.1 and will be removed in 1.3. To keep the past behaviour, explicitly set `max_features=1.0` or remove this parameter as it is also the default value for RandomForestRegressors and ExtraTreesRegressors.\n",
      "  warn(\n",
      "/opt/conda/lib/python3.10/site-packages/sklearn/ensemble/_forest.py:413: FutureWarning: `max_features='auto'` has been deprecated in 1.1 and will be removed in 1.3. To keep the past behaviour, explicitly set `max_features=1.0` or remove this parameter as it is also the default value for RandomForestRegressors and ExtraTreesRegressors.\n",
      "  warn(\n",
      "/opt/conda/lib/python3.10/site-packages/sklearn/ensemble/_forest.py:413: FutureWarning: `max_features='auto'` has been deprecated in 1.1 and will be removed in 1.3. To keep the past behaviour, explicitly set `max_features=1.0` or remove this parameter as it is also the default value for RandomForestRegressors and ExtraTreesRegressors.\n",
      "  warn(\n",
      "/opt/conda/lib/python3.10/site-packages/sklearn/ensemble/_forest.py:413: FutureWarning: `max_features='auto'` has been deprecated in 1.1 and will be removed in 1.3. To keep the past behaviour, explicitly set `max_features=1.0` or remove this parameter as it is also the default value for RandomForestRegressors and ExtraTreesRegressors.\n",
      "  warn(\n"
     ]
    },
    {
     "name": "stdout",
     "output_type": "stream",
     "text": [
      "Best parameters: {'regressor__max_depth': None, 'regressor__max_features': 'sqrt', 'regressor__n_estimators': 300}\n"
     ]
    }
   ],
   "source": [
    "from sklearn.model_selection import GridSearchCV\n",
    "\n",
    "# Define parameter grid\n",
    "param_grid = {\n",
    "    'regressor__n_estimators': [100, 200, 300],\n",
    "    'regressor__max_features': ['auto', 'sqrt', 'log2'],\n",
    "    'regressor__max_depth': [None, 10, 20, 30]\n",
    "}\n",
    "\n",
    "# Grid search\n",
    "grid_search = GridSearchCV(model, param_grid, cv=5, scoring='neg_mean_squared_error', n_jobs=-1)\n",
    "grid_search.fit(X_train, y_train)\n",
    "\n",
    "# Best parameters\n",
    "print(f'Best parameters: {grid_search.best_params_}')"
   ]
  },
  {
   "cell_type": "markdown",
   "id": "5fa1ca5d",
   "metadata": {
    "papermill": {
     "duration": 0.024257,
     "end_time": "2024-08-04T06:26:29.361668",
     "exception": false,
     "start_time": "2024-08-04T06:26:29.337411",
     "status": "completed"
    },
    "tags": []
   },
   "source": [
    "# Created model that will come in use to make prediction based on user input. "
   ]
  },
  {
   "cell_type": "code",
   "execution_count": 23,
   "id": "abc6d645",
   "metadata": {
    "execution": {
     "iopub.execute_input": "2024-08-04T06:26:29.414894Z",
     "iopub.status.busy": "2024-08-04T06:26:29.414465Z",
     "iopub.status.idle": "2024-08-04T06:26:29.499019Z",
     "shell.execute_reply": "2024-08-04T06:26:29.497880Z"
    },
    "papermill": {
     "duration": 0.113335,
     "end_time": "2024-08-04T06:26:29.501554",
     "exception": false,
     "start_time": "2024-08-04T06:26:29.388219",
     "status": "completed"
    },
    "tags": []
   },
   "outputs": [
    {
     "data": {
      "text/plain": [
       "['player_rating_model.pkl']"
      ]
     },
     "execution_count": 23,
     "metadata": {},
     "output_type": "execute_result"
    }
   ],
   "source": [
    "import joblib\n",
    "\n",
    "joblib.dump(model, 'player_rating_model.pkl')"
   ]
  },
  {
   "cell_type": "code",
   "execution_count": 24,
   "id": "a7311eba",
   "metadata": {
    "execution": {
     "iopub.execute_input": "2024-08-04T06:26:29.552845Z",
     "iopub.status.busy": "2024-08-04T06:26:29.552396Z",
     "iopub.status.idle": "2024-08-04T06:26:29.619669Z",
     "shell.execute_reply": "2024-08-04T06:26:29.618489Z"
    },
    "papermill": {
     "duration": 0.096037,
     "end_time": "2024-08-04T06:26:29.622454",
     "exception": false,
     "start_time": "2024-08-04T06:26:29.526417",
     "status": "completed"
    },
    "tags": []
   },
   "outputs": [],
   "source": [
    "model = joblib.load('player_rating_model.pkl')"
   ]
  },
  {
   "cell_type": "markdown",
   "id": "495b12bb",
   "metadata": {
    "papermill": {
     "duration": 0.024861,
     "end_time": "2024-08-04T06:26:29.673173",
     "exception": false,
     "start_time": "2024-08-04T06:26:29.648312",
     "status": "completed"
    },
    "tags": []
   },
   "source": [
    "# Using the model "
   ]
  },
  {
   "cell_type": "code",
   "execution_count": 25,
   "id": "c278da96",
   "metadata": {
    "execution": {
     "iopub.execute_input": "2024-08-04T06:26:29.724755Z",
     "iopub.status.busy": "2024-08-04T06:26:29.724313Z",
     "iopub.status.idle": "2024-08-04T06:26:29.789135Z",
     "shell.execute_reply": "2024-08-04T06:26:29.788091Z"
    },
    "papermill": {
     "duration": 0.093689,
     "end_time": "2024-08-04T06:26:29.791785",
     "exception": false,
     "start_time": "2024-08-04T06:26:29.698096",
     "status": "completed"
    },
    "tags": []
   },
   "outputs": [],
   "source": [
    "import pandas as pd\n",
    "import joblib\n",
    "from sklearn.metrics import mean_squared_error\n",
    "\n",
    "# Load the saved model\n",
    "model = joblib.load('player_rating_model.pkl')"
   ]
  },
  {
   "cell_type": "markdown",
   "id": "3f4f59ce",
   "metadata": {
    "papermill": {
     "duration": 0.025197,
     "end_time": "2024-08-04T06:26:29.841937",
     "exception": false,
     "start_time": "2024-08-04T06:26:29.816740",
     "status": "completed"
    },
    "tags": []
   },
   "source": [
    "# Sample Data taken from existing data to ensure it model wroking correctly, for further predictions."
   ]
  },
  {
   "cell_type": "code",
   "execution_count": 26,
   "id": "caa5d015",
   "metadata": {
    "execution": {
     "iopub.execute_input": "2024-08-04T06:26:29.893679Z",
     "iopub.status.busy": "2024-08-04T06:26:29.893260Z",
     "iopub.status.idle": "2024-08-04T06:26:29.900235Z",
     "shell.execute_reply": "2024-08-04T06:26:29.899173Z"
    },
    "papermill": {
     "duration": 0.035661,
     "end_time": "2024-08-04T06:26:29.902679",
     "exception": false,
     "start_time": "2024-08-04T06:26:29.867018",
     "status": "completed"
    },
    "tags": []
   },
   "outputs": [],
   "source": [
    "# Example of new data\n",
    "new_data = pd.DataFrame({\n",
    "    'Players': ['Neymar', 'Ronaldo'],\n",
    "    'Matches': [40, 50],\n",
    "    'Goals': [50, 53],\n",
    "    'Assists': [45, 48],\n",
    "    'Teams': ['PSG', 'AL NASSR']\n",
    "})"
   ]
  },
  {
   "cell_type": "code",
   "execution_count": 27,
   "id": "9251c911",
   "metadata": {
    "execution": {
     "iopub.execute_input": "2024-08-04T06:26:29.953309Z",
     "iopub.status.busy": "2024-08-04T06:26:29.952934Z",
     "iopub.status.idle": "2024-08-04T06:26:29.961092Z",
     "shell.execute_reply": "2024-08-04T06:26:29.960015Z"
    },
    "papermill": {
     "duration": 0.036998,
     "end_time": "2024-08-04T06:26:29.964154",
     "exception": false,
     "start_time": "2024-08-04T06:26:29.927156",
     "status": "completed"
    },
    "tags": []
   },
   "outputs": [
    {
     "name": "stdout",
     "output_type": "stream",
     "text": [
      "   Players  Matches  Goals  Assists     Teams\n",
      "0   Neymar       40     50       45       PSG\n",
      "1  Ronaldo       50     53       48  AL NASSR\n"
     ]
    }
   ],
   "source": [
    "# Ensure the new data has the same format\n",
    "print(new_data)"
   ]
  },
  {
   "cell_type": "code",
   "execution_count": 28,
   "id": "0a625f83",
   "metadata": {
    "execution": {
     "iopub.execute_input": "2024-08-04T06:26:30.015346Z",
     "iopub.status.busy": "2024-08-04T06:26:30.014958Z",
     "iopub.status.idle": "2024-08-04T06:26:30.034419Z",
     "shell.execute_reply": "2024-08-04T06:26:30.033242Z"
    },
    "papermill": {
     "duration": 0.04837,
     "end_time": "2024-08-04T06:26:30.037318",
     "exception": false,
     "start_time": "2024-08-04T06:26:29.988948",
     "status": "completed"
    },
    "tags": []
   },
   "outputs": [],
   "source": [
    "# Make predictions on the new data\n",
    "new_predictions = model.predict(new_data)"
   ]
  },
  {
   "cell_type": "markdown",
   "id": "68dab8f5",
   "metadata": {
    "papermill": {
     "duration": 0.025234,
     "end_time": "2024-08-04T06:26:30.087210",
     "exception": false,
     "start_time": "2024-08-04T06:26:30.061976",
     "status": "completed"
    },
    "tags": []
   },
   "source": [
    "# Here model gave the prediction based existing data input given to it."
   ]
  },
  {
   "cell_type": "code",
   "execution_count": 29,
   "id": "cca2d8c4",
   "metadata": {
    "execution": {
     "iopub.execute_input": "2024-08-04T06:26:30.138417Z",
     "iopub.status.busy": "2024-08-04T06:26:30.138012Z",
     "iopub.status.idle": "2024-08-04T06:26:30.144297Z",
     "shell.execute_reply": "2024-08-04T06:26:30.143084Z"
    },
    "papermill": {
     "duration": 0.03482,
     "end_time": "2024-08-04T06:26:30.146782",
     "exception": false,
     "start_time": "2024-08-04T06:26:30.111962",
     "status": "completed"
    },
    "tags": []
   },
   "outputs": [
    {
     "name": "stdout",
     "output_type": "stream",
     "text": [
      "Predicted Ratings: [8.369 8.238]\n"
     ]
    }
   ],
   "source": [
    "# Print the predictions\n",
    "print('Predicted Ratings:', new_predictions)"
   ]
  },
  {
   "cell_type": "code",
   "execution_count": 30,
   "id": "de1d4d8e",
   "metadata": {
    "execution": {
     "iopub.execute_input": "2024-08-04T06:26:30.198848Z",
     "iopub.status.busy": "2024-08-04T06:26:30.197912Z",
     "iopub.status.idle": "2024-08-04T06:26:30.203230Z",
     "shell.execute_reply": "2024-08-04T06:26:30.202143Z"
    },
    "papermill": {
     "duration": 0.03375,
     "end_time": "2024-08-04T06:26:30.205510",
     "exception": false,
     "start_time": "2024-08-04T06:26:30.171760",
     "status": "completed"
    },
    "tags": []
   },
   "outputs": [],
   "source": [
    "# Assuming you have the actual ratings for the new data\n",
    "actual_ratings = [8.3,8.2]  # Example actual ratings"
   ]
  },
  {
   "cell_type": "code",
   "execution_count": 31,
   "id": "32761509",
   "metadata": {
    "execution": {
     "iopub.execute_input": "2024-08-04T06:26:30.257736Z",
     "iopub.status.busy": "2024-08-04T06:26:30.257285Z",
     "iopub.status.idle": "2024-08-04T06:26:30.264751Z",
     "shell.execute_reply": "2024-08-04T06:26:30.263519Z"
    },
    "papermill": {
     "duration": 0.036197,
     "end_time": "2024-08-04T06:26:30.267044",
     "exception": false,
     "start_time": "2024-08-04T06:26:30.230847",
     "status": "completed"
    },
    "tags": []
   },
   "outputs": [
    {
     "name": "stdout",
     "output_type": "stream",
     "text": [
      "Mean Squared Error on new data: 0.0031025000000006503\n"
     ]
    }
   ],
   "source": [
    "# Evaluate the predictions\n",
    "mse_new = mean_squared_error(actual_ratings, new_predictions)\n",
    "print(f'Mean Squared Error on new data: {mse_new}')"
   ]
  },
  {
   "cell_type": "markdown",
   "id": "3bb119bc",
   "metadata": {
    "papermill": {
     "duration": 0.024332,
     "end_time": "2024-08-04T06:26:30.316231",
     "exception": false,
     "start_time": "2024-08-04T06:26:30.291899",
     "status": "completed"
    },
    "tags": []
   },
   "source": [
    "# For more understanding,I have given an input as user to model to see whether model predict the rating based on my own input or not. "
   ]
  },
  {
   "cell_type": "code",
   "execution_count": 32,
   "id": "e3a23426",
   "metadata": {
    "execution": {
     "iopub.execute_input": "2024-08-04T06:26:30.367532Z",
     "iopub.status.busy": "2024-08-04T06:26:30.367172Z",
     "iopub.status.idle": "2024-08-04T06:26:30.374545Z",
     "shell.execute_reply": "2024-08-04T06:26:30.373431Z"
    },
    "papermill": {
     "duration": 0.036089,
     "end_time": "2024-08-04T06:26:30.377073",
     "exception": false,
     "start_time": "2024-08-04T06:26:30.340984",
     "status": "completed"
    },
    "tags": []
   },
   "outputs": [],
   "source": [
    "new = pd.DataFrame({'Players':[\"Sunil Chhetri\"],'Matches':[30],'Goals':[45],'Assists':[40],'Teams':['Bengaluru FC']})"
   ]
  },
  {
   "cell_type": "code",
   "execution_count": 33,
   "id": "a1d666fa",
   "metadata": {
    "execution": {
     "iopub.execute_input": "2024-08-04T06:26:30.429396Z",
     "iopub.status.busy": "2024-08-04T06:26:30.428514Z",
     "iopub.status.idle": "2024-08-04T06:26:30.436356Z",
     "shell.execute_reply": "2024-08-04T06:26:30.435277Z"
    },
    "papermill": {
     "duration": 0.036437,
     "end_time": "2024-08-04T06:26:30.438821",
     "exception": false,
     "start_time": "2024-08-04T06:26:30.402384",
     "status": "completed"
    },
    "tags": []
   },
   "outputs": [
    {
     "name": "stdout",
     "output_type": "stream",
     "text": [
      "         Players  Matches  Goals  Assists         Teams\n",
      "0  Sunil Chhetri       30     45       40  Bengaluru FC\n"
     ]
    }
   ],
   "source": [
    "print(new)"
   ]
  },
  {
   "cell_type": "markdown",
   "id": "f0b95f49",
   "metadata": {
    "papermill": {
     "duration": 0.02487,
     "end_time": "2024-08-04T06:26:30.488829",
     "exception": false,
     "start_time": "2024-08-04T06:26:30.463959",
     "status": "completed"
    },
    "tags": []
   },
   "source": [
    "# I have created an object and passed the input into it by using FUNCTION(PREDICT)"
   ]
  },
  {
   "cell_type": "code",
   "execution_count": 34,
   "id": "5f6c8722",
   "metadata": {
    "execution": {
     "iopub.execute_input": "2024-08-04T06:26:30.540672Z",
     "iopub.status.busy": "2024-08-04T06:26:30.540263Z",
     "iopub.status.idle": "2024-08-04T06:26:30.559697Z",
     "shell.execute_reply": "2024-08-04T06:26:30.558594Z"
    },
    "papermill": {
     "duration": 0.048433,
     "end_time": "2024-08-04T06:26:30.562316",
     "exception": false,
     "start_time": "2024-08-04T06:26:30.513883",
     "status": "completed"
    },
    "tags": []
   },
   "outputs": [],
   "source": [
    "new_prediction = model.predict(new)"
   ]
  },
  {
   "cell_type": "markdown",
   "id": "937c01ac",
   "metadata": {
    "papermill": {
     "duration": 0.02462,
     "end_time": "2024-08-04T06:26:30.611850",
     "exception": false,
     "start_time": "2024-08-04T06:26:30.587230",
     "status": "completed"
    },
    "tags": []
   },
   "source": [
    "# Model gave the ,'Rating of the player'.which i gave as input."
   ]
  },
  {
   "cell_type": "code",
   "execution_count": 35,
   "id": "96a93043",
   "metadata": {
    "execution": {
     "iopub.execute_input": "2024-08-04T06:26:30.664205Z",
     "iopub.status.busy": "2024-08-04T06:26:30.663775Z",
     "iopub.status.idle": "2024-08-04T06:26:30.670933Z",
     "shell.execute_reply": "2024-08-04T06:26:30.669813Z"
    },
    "papermill": {
     "duration": 0.036827,
     "end_time": "2024-08-04T06:26:30.673566",
     "exception": false,
     "start_time": "2024-08-04T06:26:30.636739",
     "status": "completed"
    },
    "tags": []
   },
   "outputs": [
    {
     "data": {
      "text/plain": [
       "array([8.171])"
      ]
     },
     "execution_count": 35,
     "metadata": {},
     "output_type": "execute_result"
    }
   ],
   "source": [
    "new_prediction"
   ]
  },
  {
   "cell_type": "code",
   "execution_count": null,
   "id": "7a109eee",
   "metadata": {
    "papermill": {
     "duration": 0.025293,
     "end_time": "2024-08-04T06:26:30.724840",
     "exception": false,
     "start_time": "2024-08-04T06:26:30.699547",
     "status": "completed"
    },
    "tags": []
   },
   "outputs": [],
   "source": []
  }
 ],
 "metadata": {
  "kaggle": {
   "accelerator": "none",
   "dataSources": [
    {
     "datasetId": 5464041,
     "sourceId": 9060693,
     "sourceType": "datasetVersion"
    }
   ],
   "dockerImageVersionId": 30746,
   "isGpuEnabled": false,
   "isInternetEnabled": true,
   "language": "python",
   "sourceType": "notebook"
  },
  "kernelspec": {
   "display_name": "Python 3",
   "language": "python",
   "name": "python3"
  },
  "language_info": {
   "codemirror_mode": {
    "name": "ipython",
    "version": 3
   },
   "file_extension": ".py",
   "mimetype": "text/x-python",
   "name": "python",
   "nbconvert_exporter": "python",
   "pygments_lexer": "ipython3",
   "version": "3.10.13"
  },
  "papermill": {
   "default_parameters": {},
   "duration": 97.930422,
   "end_time": "2024-08-04T06:26:33.378663",
   "environment_variables": {},
   "exception": null,
   "input_path": "__notebook__.ipynb",
   "output_path": "__notebook__.ipynb",
   "parameters": {},
   "start_time": "2024-08-04T06:24:55.448241",
   "version": "2.5.0"
  }
 },
 "nbformat": 4,
 "nbformat_minor": 5
}
